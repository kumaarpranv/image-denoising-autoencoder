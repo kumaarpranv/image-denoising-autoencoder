{
 "cells": [
  {
   "cell_type": "code",
   "execution_count": 1,
   "metadata": {},
   "outputs": [],
   "source": [
    "import torchvision\n",
    "import torchvision.transforms as CVtransforms\n",
    "from torchvision import datasets\n",
    "\n",
    "import torch\n",
    "import torch.nn as nn\n",
    "import torch.nn.functional as F\n",
    "import torch.optim as optim\n",
    "from torch.utils.data import DataLoader\n",
    "\n",
    "import matplotlib.pyplot as plt\n",
    "import numpy as np\n",
    "import random\n",
    "import os\n",
    "import time\n"
   ]
  },
  {
   "cell_type": "code",
   "execution_count": 2,
   "metadata": {},
   "outputs": [],
   "source": [
    "np.random.seed(1234)\n",
    "torch.manual_seed(1234)\n",
    "random.seed(1234)\n",
    "torch.backends.cudnn.deterministic = True\n",
    "torch.backends.cudnn.benchmark = False"
   ]
  },
  {
   "cell_type": "code",
   "execution_count": 3,
   "metadata": {},
   "outputs": [],
   "source": [
    "BATCH_SIZE  = 64\n",
    "N_EPOCHS = 10\n",
    "IMAGE_SIZE = 28 * 28\n",
    "LATENT_DIM = 100"
   ]
  },
  {
   "cell_type": "code",
   "execution_count": 4,
   "metadata": {},
   "outputs": [],
   "source": [
    "device = torch.device('cuda' if torch.cuda.is_available() else 'cpu')"
   ]
  },
  {
   "cell_type": "code",
   "execution_count": null,
   "metadata": {},
   "outputs": [],
   "source": []
  },
  {
   "cell_type": "code",
   "execution_count": 5,
   "metadata": {},
   "outputs": [],
   "source": [
    "class AddGaussianNoise(object):\n",
    "    def __init__(self, mean=0., std=1.):\n",
    "        self.std = std\n",
    "        self.mean = mean\n",
    "        \n",
    "    def __call__(self, tensor):\n",
    "        return tensor + torch.randn(tensor.size()) * self.std + self.mean\n",
    "    \n",
    "    def __repr__(self):\n",
    "        return self.__class__.__name__ + '(mean={0}, std={1})'.format(self.mean, self.std)"
   ]
  },
  {
   "cell_type": "code",
   "execution_count": 6,
   "metadata": {},
   "outputs": [],
   "source": [
    "transforms = CVtransforms.Compose([\n",
    "    CVtransforms.ToTensor(),\n",
    "    CVtransforms.Normalize((0.5,), (0.5,))\n",
    "    ])\n"
   ]
  },
  {
   "cell_type": "code",
   "execution_count": 7,
   "metadata": {},
   "outputs": [],
   "source": [
    "dataset = datasets.MNIST('.data', \n",
    "                        train=True, \n",
    "                        download=True, \n",
    "                        transform=transforms,\n",
    "                        )\n",
    "\n",
    "train_data, val_data = torch.utils.data.random_split(dataset, [50000, 10000])"
   ]
  },
  {
   "cell_type": "code",
   "execution_count": null,
   "metadata": {},
   "outputs": [],
   "source": []
  },
  {
   "cell_type": "code",
   "execution_count": 8,
   "metadata": {},
   "outputs": [],
   "source": [
    "train_iterator = DataLoader(train_data,\n",
    "                      batch_size=BATCH_SIZE,\n",
    "                      shuffle=True,\n",
    "                      drop_last=True,\n",
    "                     )\n",
    "\n",
    "\n",
    "val_iterator = DataLoader(val_data,\n",
    "                      batch_size=BATCH_SIZE,\n",
    "                      shuffle=True,\n",
    "                      drop_last=True,\n",
    "                     )"
   ]
  },
  {
   "cell_type": "code",
   "execution_count": 9,
   "metadata": {},
   "outputs": [],
   "source": [
    "class AddGaussianNoise(object):\n",
    "    def __init__(self, mean=0., std=1.):\n",
    "        self.std = std\n",
    "        self.mean = mean\n",
    "        \n",
    "    def __call__(self, tensor):\n",
    "        return tensor + torch.randn(tensor.size()) * self.std + self.mean\n",
    "    \n",
    "    def __repr__(self):\n",
    "        return self.__class__.__name__ + '(mean={0}, std={1})'.format(self.mean, self.std)\n",
    "    \n",
    "def toImage(tensor):\n",
    "    transf = CVtransforms.ToPILImage()\n",
    "    return transf(tensor)\n",
    "\n",
    "def addNoise(tensor,mean=0.,std=1.):\n",
    "    transf = AddGaussianNoise(mean, std)\n",
    "    return transf(tensor)\n",
    "    "
   ]
  },
  {
   "cell_type": "code",
   "execution_count": 10,
   "metadata": {},
   "outputs": [
    {
     "name": "stdout",
     "output_type": "stream",
     "text": [
      "torch.Size([64, 1, 28, 28])\n"
     ]
    },
    {
     "data": {
      "image/png": "[encoded data removed]",
      "text/plain": [
       "<Figure size 432x288 with 1 Axes>"
      ]
     },
     "metadata": {
      "needs_background": "light"
     },
     "output_type": "display_data"
    }
   ],
   "source": [
    "noise_mean = 0.01\n",
    "noise_var = 0.008\n",
    "\n",
    "for data, label in train_iterator:\n",
    "    print(data.shape)\n",
    "    data = addNoise(data,noise_mean,noise_var) #(noise_mean**noise_var)*torch.randn([BATCH_SIZE,1, 28, 28])\n",
    "    img = toImage(data[0])\n",
    "    plt.imshow(img)\n",
    "    break"
   ]
  },
  {
   "cell_type": "code",
   "execution_count": 11,
   "metadata": {},
   "outputs": [],
   "source": [
    "\n",
    "class Denoising_Autoencoder(nn.Module):\n",
    "    def __init__(self, image_size,filters=(16, 34), latent_dim=64):\n",
    "        super(Denoising_Autoencoder, self).__init__()\n",
    "        self.latent_dim = latent_dim\n",
    "        self.filters=filters\n",
    "        #Encoder\n",
    "        self.conv1 = nn.Conv2d(in_channels=1, out_channels=filters[0], kernel_size=3, padding=1)\n",
    "        self.conv2 = nn.Conv2d(in_channels=filters[0], out_channels=filters[1], kernel_size=3, padding = 1)\n",
    "        self.leakyRelu = nn.LeakyReLU(negative_slope=0.02)\n",
    "        self.batchNormalization1 = nn.BatchNorm2d(filters[0]) \n",
    "        self.batchNormalization2 = nn.BatchNorm2d(filters[1]) \n",
    "        \n",
    "        self.pool = nn.MaxPool2d(4, 4)\n",
    "        \n",
    "        #Decoder\n",
    "        self.t_conv1 = nn.ConvTranspose2d(in_channels=filters[1],out_channels=filters[0], kernel_size=2, stride=2)\n",
    "        self.t_conv2 = nn.ConvTranspose2d(in_channels=filters[0],out_channels=1, kernel_size=2, stride=2)\n",
    "        \n",
    "        \n",
    "    def forward(self, x):\n",
    "        #x = inputs.detach().clone()\n",
    "        #Encoder\n",
    "        x = self.leakyRelu(self.batchNormalization1(self.conv1(x)))\n",
    "        x = self.leakyRelu(self.batchNormalization2(self.conv2(x)))\n",
    "        \n",
    "        x = self.pool(x)\n",
    "        \n",
    "        #Decoder\n",
    "        x = self.leakyRelu(self.t_conv1(x))\n",
    "        x = torch.sigmoid(self.t_conv2(x))\n",
    "        \n",
    "        #x = self.leakyRelu(self.linear(x))\n",
    "        \n",
    "        return x"
   ]
  },
  {
   "cell_type": "code",
   "execution_count": null,
   "metadata": {},
   "outputs": [],
   "source": []
  },
  {
   "cell_type": "code",
   "execution_count": null,
   "metadata": {},
   "outputs": [],
   "source": []
  },
  {
   "cell_type": "code",
   "execution_count": 12,
   "metadata": {},
   "outputs": [],
   "source": [
    "model = Denoising_Autoencoder(IMAGE_SIZE).to(device)"
   ]
  },
  {
   "cell_type": "code",
   "execution_count": 13,
   "metadata": {},
   "outputs": [],
   "source": [
    "criterion = nn.BCELoss()\n",
    "optimizer = torch.optim.Adam(\n",
    "    model.parameters(), lr=0.01, weight_decay=1e-5)"
   ]
  },
  {
   "cell_type": "code",
   "execution_count": 14,
   "metadata": {},
   "outputs": [
    {
     "name": "stdout",
     "output_type": "stream",
     "text": [
      "torch.Size([1, 28, 28])\n",
      "torch.Size([1, 1, 28, 28])\n"
     ]
    }
   ],
   "source": [
    "img, _ = train_data[1]\n",
    "#img = img.view(img.size(0),-1)\n",
    "#img = torch.unsqueeze(img,0)\n",
    "print(img.shape)\n",
    "img = img.to(device)\n",
    "with torch.no_grad():\n",
    "    out = model(torch.unsqueeze(img,0))\n",
    "    print(out.shape)"
   ]
  },
  {
   "cell_type": "code",
   "execution_count": null,
   "metadata": {},
   "outputs": [],
   "source": []
  },
  {
   "cell_type": "code",
   "execution_count": 15,
   "metadata": {},
   "outputs": [],
   "source": [
    "def train(model, iterator, optimizer, criterion):\n",
    "    epoch_loss = 0\n",
    "    epoch_acc = 0\n",
    "    model.train()\n",
    "    for data, label in iterator:\n",
    "        optimizer.zero_grad()\n",
    "        dirty_data = addNoise(data,noise_mean,noise_var)\n",
    "        dirty_data=dirty_data.to(device)\n",
    "        \n",
    "        predictions = model(dirty_data)\n",
    "        loss = criterion(predictions.cpu(),data)\n",
    "        loss.backward()\n",
    "        optimizer.step()\n",
    "        epoch_loss += loss.item()\n",
    "        \n",
    "    return epoch_loss / len(iterator)"
   ]
  },
  {
   "cell_type": "code",
   "execution_count": 16,
   "metadata": {},
   "outputs": [],
   "source": [
    "\n",
    "def evaluate(model, iterator, criterion):\n",
    "    epoch_loss = 0\n",
    "    epoch_acc = 0\n",
    "    model.eval()\n",
    "    with torch.no_grad():\n",
    "        for batch in iterator:\n",
    "            optimizer.zero_grad()\n",
    "            dirty_data = addNoise(data,noise_mean,noise_var)\n",
    "            dirty_data=dirty_data.to(device)\n",
    "            \n",
    "            predictions = model(dirty_data)\n",
    "            loss = criterion(predictions.cpu(),data)\n",
    "            \n",
    "            epoch_loss += loss.item()\n",
    "            \n",
    "    return epoch_loss / len(iterator)"
   ]
  },
  {
   "cell_type": "code",
   "execution_count": 17,
   "metadata": {},
   "outputs": [],
   "source": [
    "import time\n",
    "\n",
    "def epoch_time(start_time, end_time):\n",
    "    elapsed_time = end_time - start_time\n",
    "    elapsed_mins = int(elapsed_time / 60)\n",
    "    elapsed_secs = int(elapsed_time - (elapsed_mins * 60))\n",
    "    return elapsed_mins, elapsed_secs"
   ]
  },
  {
   "cell_type": "code",
   "execution_count": 18,
   "metadata": {},
   "outputs": [
    {
     "name": "stdout",
     "output_type": "stream",
     "text": [
      "Epoch: 01 | Epoch Time: 0m 14s\n",
      "\tTrain Loss: -51.315\n",
      "\t Val. Loss: -57.802\n",
      "Epoch: 02 | Epoch Time: 0m 14s\n",
      "\tTrain Loss: -54.866\n",
      "\t Val. Loss: -57.183\n",
      "Epoch: 03 | Epoch Time: 0m 13s\n",
      "\tTrain Loss: -55.400\n",
      "\t Val. Loss: -50.784\n",
      "Epoch: 04 | Epoch Time: 0m 13s\n",
      "\tTrain Loss: -55.069\n",
      "\t Val. Loss: -49.722\n",
      "Epoch: 05 | Epoch Time: 0m 13s\n",
      "\tTrain Loss: -54.383\n",
      "\t Val. Loss: -53.854\n"
     ]
    }
   ],
   "source": [
    "N_EPOCHS = 5\n",
    "\n",
    "best_valid_loss = float('inf')\n",
    "\n",
    "pt_file = './image-denoising-ae.pt'\n",
    "if os.path.exists(pt_file):\n",
    "    model.load_state_dict(torch.load(pt_file))\n",
    "\n",
    "for epoch in range(N_EPOCHS):\n",
    "\n",
    "    start_time = time.time()\n",
    "    \n",
    "    train_loss = train(model, train_iterator, optimizer, criterion)\n",
    "    valid_loss = evaluate(model,val_iterator, criterion)\n",
    "    \n",
    "    end_time = time.time()\n",
    "\n",
    "    epoch_mins, epoch_secs = epoch_time(start_time, end_time)\n",
    "    \n",
    "    if valid_loss < best_valid_loss:\n",
    "        best_valid_loss = valid_loss\n",
    "        torch.save(model.state_dict(), pt_file)\n",
    "    \n",
    "    print(f'Epoch: {epoch+1:02} | Epoch Time: {epoch_mins}m {epoch_secs}s')\n",
    "    print(f'\\tTrain Loss: {train_loss:.3f}')\n",
    "    print(f'\\t Val. Loss: {valid_loss:.3f}')"
   ]
  },
  {
   "cell_type": "code",
   "execution_count": 19,
   "metadata": {},
   "outputs": [
    {
     "data": {
      "text/plain": [
       "Denoising_Autoencoder(\n",
       "  (conv1): Conv2d(1, 16, kernel_size=(3, 3), stride=(1, 1), padding=(1, 1))\n",
       "  (conv2): Conv2d(16, 34, kernel_size=(3, 3), stride=(1, 1), padding=(1, 1))\n",
       "  (leakyRelu): LeakyReLU(negative_slope=0.02)\n",
       "  (batchNormalization1): BatchNorm2d(16, eps=1e-05, momentum=0.1, affine=True, track_running_stats=True)\n",
       "  (batchNormalization2): BatchNorm2d(34, eps=1e-05, momentum=0.1, affine=True, track_running_stats=True)\n",
       "  (pool): MaxPool2d(kernel_size=4, stride=4, padding=0, dilation=1, ceil_mode=False)\n",
       "  (t_conv1): ConvTranspose2d(34, 16, kernel_size=(2, 2), stride=(2, 2))\n",
       "  (t_conv2): ConvTranspose2d(16, 1, kernel_size=(2, 2), stride=(2, 2))\n",
       ")"
      ]
     },
     "execution_count": 19,
     "metadata": {},
     "output_type": "execute_result"
    }
   ],
   "source": [
    "model.load_state_dict(torch.load(pt_file))\n",
    "model.eval()"
   ]
  },
  {
   "cell_type": "code",
   "execution_count": 24,
   "metadata": {},
   "outputs": [
    {
     "data": {
      "image/png": "[encoded data removed]",
      "text/plain": [
       "<Figure size 432x288 with 1 Axes>"
      ]
     },
     "metadata": {
      "needs_background": "light"
     },
     "output_type": "display_data"
    },
    {
     "data": {
      "image/png": "[encoded data removed]",
      "text/plain": [
       "<Figure size 432x288 with 1 Axes>"
      ]
     },
     "metadata": {
      "needs_background": "light"
     },
     "output_type": "display_data"
    },
    {
     "name": "stdout",
     "output_type": "stream",
     "text": [
      "torch.Size([1, 28, 28])\n"
     ]
    },
    {
     "data": {
      "image/png": "[encoded data removed]",
      "text/plain": [
       "<Figure size 432x288 with 1 Axes>"
      ]
     },
     "metadata": {
      "needs_background": "light"
     },
     "output_type": "display_data"
    }
   ],
   "source": [
    "with torch.no_grad():\n",
    "    for data, label in val_iterator:\n",
    "        ground_truth = toImage(data[0])\n",
    "        plt.imshow(ground_truth)\n",
    "        plt.show()\n",
    "        \n",
    "        data = addNoise(data,noise_mean,noise_var) #(noise_mean**noise_var)*torch.randn([BATCH_SIZE,1, 28, 28])\n",
    "        dirty_img = toImage(data[0])\n",
    "        plt.imshow(dirty_img)\n",
    "        plt.show()\n",
    "        \n",
    "        tensor = torch.unsqueeze(data[0],0).to(device)\n",
    "        prediction = model(tensor)\n",
    "        print(prediction[0].shape)\n",
    "        pred_img = toImage(prediction[0])\n",
    "        plt.imshow(pred_img)\n",
    "        plt.show()\n",
    "        break"
   ]
  },
  {
   "cell_type": "code",
   "execution_count": null,
   "metadata": {},
   "outputs": [],
   "source": []
  },
  {
   "cell_type": "code",
   "execution_count": null,
   "metadata": {},
   "outputs": [],
   "source": []
  },
  {
   "cell_type": "code",
   "execution_count": null,
   "metadata": {},
   "outputs": [],
   "source": []
  }
 ],
 "metadata": {
  "kernelspec": {
   "display_name": "Python 3",
   "language": "python",
   "name": "python3"
  },
  "language_info": {
   "codemirror_mode": {
    "name": "ipython",
    "version": 3
   },
   "file_extension": ".py",
   "mimetype": "text/x-python",
   "name": "python",
   "nbconvert_exporter": "python",
   "pygments_lexer": "ipython3",
   "version": "3.8.3"
  }
 },
 "nbformat": 4,
 "nbformat_minor": 4
}
